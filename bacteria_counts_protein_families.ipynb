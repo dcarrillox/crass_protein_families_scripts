{
 "cells": [
  {
   "cell_type": "code",
   "execution_count": 76,
   "id": "0613c120-7ea3-4902-bba5-86704af4f47c",
   "metadata": {},
   "outputs": [],
   "source": [
    "import matplotlib.pyplot as plt\n",
    "import pandas as pd\n",
    "import numpy as np\n",
    "import glob, os\n",
    "import seaborn as sns"
   ]
  },
  {
   "cell_type": "code",
   "execution_count": 125,
   "id": "be281d06-03f7-4368-9b18-ba4e8ae69d3c",
   "metadata": {},
   "outputs": [],
   "source": [
    "# list summary tables\n",
    "summaries = glob.glob(\"../5_nr_screening/2_hits_summary/*.summary\")"
   ]
  },
  {
   "cell_type": "code",
   "execution_count": 126,
   "id": "ed886f87-1a4b-4504-bc21-630c6b36528b",
   "metadata": {},
   "outputs": [],
   "source": [
    "counts_list   = list()\n",
    "bacteria_list = list()"
   ]
  },
  {
   "cell_type": "code",
   "execution_count": 127,
   "id": "e2636796-defe-475c-bacb-666c61c54c02",
   "metadata": {},
   "outputs": [],
   "source": [
    "for summary in summaries:\n",
    "    cl_id = os.path.basename(summary).split(\".\")[0]\n",
    "    df = pd.read_csv(summary, header=0, index_col=0, sep=\"\\t\", low_memory=False)\n",
    "    \n",
    "    bact = df[df.superkingdom.isin([\"Bacteria\"])]\n",
    "    if not bact.empty:\n",
    "        # count bacterial hits\n",
    "        count = bact.shape[0]\n",
    "        if count > 1000:\n",
    "            counts_list.append([cl_id, 1000])\n",
    "        else:\n",
    "            counts_list.append([cl_id, count])\n",
    "  \n",
    "        \n",
    "        bacteria_list.append([cl_id, \"bacterial hits\"])\n",
    "        \n",
    "    else:\n",
    "        bacteria_list.append([cl_id, \"no bacterial hits\"])"
   ]
  },
  {
   "cell_type": "code",
   "execution_count": 128,
   "id": "3be08aa8-0bd5-433a-8840-65e710a3ed96",
   "metadata": {},
   "outputs": [],
   "source": [
    "counts_df   = pd.DataFrame(counts_list, columns=[\"cl_id\", \"bacteria_counts\"])\n",
    "counts_df.set_index(\"cl_id\", inplace=True)\n",
    "bacteria_df = pd.DataFrame(bacteria_list, columns=[\"cl_id\", \"bacteria_hits\"])"
   ]
  },
  {
   "cell_type": "code",
   "execution_count": 129,
   "id": "6a8f84a6-75fb-4dc9-9596-b4ba40e88e7e",
   "metadata": {},
   "outputs": [
    {
     "data": {
      "text/plain": [
       "(array([1.044e+03, 1.170e+02, 7.500e+01, 4.800e+01, 3.300e+01, 2.100e+01,\n",
       "        2.600e+01, 2.200e+01, 1.000e+01, 1.100e+01, 1.300e+01, 1.100e+01,\n",
       "        1.700e+01, 9.000e+00, 4.000e+00, 7.000e+00, 7.000e+00, 8.000e+00,\n",
       "        3.000e+00, 5.000e+00, 1.000e+00, 6.000e+00, 3.000e+00, 6.000e+00,\n",
       "        4.000e+00, 2.000e+00, 3.000e+00, 4.000e+00, 0.000e+00, 1.000e+00,\n",
       "        3.000e+00, 3.000e+00, 2.000e+00, 2.000e+00, 2.000e+00, 3.000e+00,\n",
       "        3.000e+00, 3.000e+00, 2.000e+00, 0.000e+00, 1.000e+00, 0.000e+00,\n",
       "        0.000e+00, 4.000e+00, 3.000e+00, 1.000e+00, 1.000e+00, 2.000e+00,\n",
       "        2.000e+00, 1.000e+00, 0.000e+00, 2.000e+00, 0.000e+00, 2.000e+00,\n",
       "        1.000e+00, 2.000e+00, 3.000e+00, 1.000e+00, 0.000e+00, 2.180e+02]),\n",
       " array([   1.  ,   17.65,   34.3 ,   50.95,   67.6 ,   84.25,  100.9 ,\n",
       "         117.55,  134.2 ,  150.85,  167.5 ,  184.15,  200.8 ,  217.45,\n",
       "         234.1 ,  250.75,  267.4 ,  284.05,  300.7 ,  317.35,  334.  ,\n",
       "         350.65,  367.3 ,  383.95,  400.6 ,  417.25,  433.9 ,  450.55,\n",
       "         467.2 ,  483.85,  500.5 ,  517.15,  533.8 ,  550.45,  567.1 ,\n",
       "         583.75,  600.4 ,  617.05,  633.7 ,  650.35,  667.  ,  683.65,\n",
       "         700.3 ,  716.95,  733.6 ,  750.25,  766.9 ,  783.55,  800.2 ,\n",
       "         816.85,  833.5 ,  850.15,  866.8 ,  883.45,  900.1 ,  916.75,\n",
       "         933.4 ,  950.05,  966.7 ,  983.35, 1000.  ]),\n",
       " <BarContainer object of 60 artists>)"
      ]
     },
     "execution_count": 129,
     "metadata": {},
     "output_type": "execute_result"
    },
    {
     "data": {
      "image/png": "[encoded data removed]",
      "text/plain": [
       "<Figure size 432x288 with 1 Axes>"
      ]
     },
     "metadata": {
      "needs_background": "light"
     },
     "output_type": "display_data"
    }
   ],
   "source": [
    "plt.hist(counts_df, bins=60)\n"
   ]
  },
  {
   "cell_type": "code",
   "execution_count": 113,
   "id": "98ae1145-5142-4101-886e-4731d8aabaca",
   "metadata": {},
   "outputs": [
    {
     "data": {
      "text/html": [
       "<div>\n",
       "<style scoped>\n",
       "    .dataframe tbody tr th:only-of-type {\n",
       "        vertical-align: middle;\n",
       "    }\n",
       "\n",
       "    .dataframe tbody tr th {\n",
       "        vertical-align: top;\n",
       "    }\n",
       "\n",
       "    .dataframe thead th {\n",
       "        text-align: right;\n",
       "    }\n",
       "</style>\n",
       "<table border=\"1\" class=\"dataframe\">\n",
       "  <thead>\n",
       "    <tr style=\"text-align: right;\">\n",
       "      <th></th>\n",
       "      <th>bacteria_counts</th>\n",
       "    </tr>\n",
       "    <tr>\n",
       "      <th>cl_id</th>\n",
       "      <th></th>\n",
       "    </tr>\n",
       "  </thead>\n",
       "  <tbody>\n",
       "    <tr>\n",
       "      <th>cl_2636</th>\n",
       "      <td>126</td>\n",
       "    </tr>\n",
       "    <tr>\n",
       "      <th>cl_5310</th>\n",
       "      <td>243</td>\n",
       "    </tr>\n",
       "    <tr>\n",
       "      <th>cl_4308</th>\n",
       "      <td>6</td>\n",
       "    </tr>\n",
       "    <tr>\n",
       "      <th>cl_6366</th>\n",
       "      <td>204</td>\n",
       "    </tr>\n",
       "    <tr>\n",
       "      <th>cl_s_513</th>\n",
       "      <td>43613</td>\n",
       "    </tr>\n",
       "    <tr>\n",
       "      <th>...</th>\n",
       "      <td>...</td>\n",
       "    </tr>\n",
       "    <tr>\n",
       "      <th>cl_5922</th>\n",
       "      <td>2</td>\n",
       "    </tr>\n",
       "    <tr>\n",
       "      <th>cl_1576</th>\n",
       "      <td>2000</td>\n",
       "    </tr>\n",
       "    <tr>\n",
       "      <th>cl_0467</th>\n",
       "      <td>1</td>\n",
       "    </tr>\n",
       "    <tr>\n",
       "      <th>cl_3642</th>\n",
       "      <td>2000</td>\n",
       "    </tr>\n",
       "    <tr>\n",
       "      <th>cl_6306</th>\n",
       "      <td>8</td>\n",
       "    </tr>\n",
       "  </tbody>\n",
       "</table>\n",
       "<p>3576 rows × 1 columns</p>\n",
       "</div>"
      ],
      "text/plain": [
       "          bacteria_counts\n",
       "cl_id                    \n",
       "cl_2636               126\n",
       "cl_5310               243\n",
       "cl_4308                 6\n",
       "cl_6366               204\n",
       "cl_s_513            43613\n",
       "...                   ...\n",
       "cl_5922                 2\n",
       "cl_1576              2000\n",
       "cl_0467                 1\n",
       "cl_3642              2000\n",
       "cl_6306                 8\n",
       "\n",
       "[3576 rows x 1 columns]"
      ]
     },
     "execution_count": 113,
     "metadata": {},
     "output_type": "execute_result"
    }
   ],
   "source": [
    "counts_df"
   ]
  },
  {
   "cell_type": "code",
   "execution_count": 114,
   "id": "18a25ba5-10c9-4af3-b088-c6f96001c92e",
   "metadata": {},
   "outputs": [
    {
     "data": {
      "text/plain": [
       "(0, 17)"
      ]
     },
     "execution_count": 114,
     "metadata": {},
     "output_type": "execute_result"
    }
   ],
   "source": [
    "bact.shape"
   ]
  }
 ],
 "metadata": {
  "kernelspec": {
   "display_name": "Python 3 (ipykernel)",
   "language": "python",
   "name": "python3"
  },
  "language_info": {
   "codemirror_mode": {
    "name": "ipython",
    "version": 3
   },
   "file_extension": ".py",
   "mimetype": "text/x-python",
   "name": "python",
   "nbconvert_exporter": "python",
   "pygments_lexer": "ipython3",
   "version": "3.9.7"
  }
 },
 "nbformat": 4,
 "nbformat_minor": 5
}
