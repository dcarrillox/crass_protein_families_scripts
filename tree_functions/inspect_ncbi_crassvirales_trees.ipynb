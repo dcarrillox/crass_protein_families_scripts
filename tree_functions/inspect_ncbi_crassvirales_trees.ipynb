{
 "cells": [
  {
   "cell_type": "code",
   "execution_count": 1,
   "id": "2404863c-19d5-44d0-a0ab-24ef673be1fb",
   "metadata": {},
   "outputs": [
    {
     "name": "stderr",
     "output_type": "stream",
     "text": [
      "/home/dani/miniconda3/lib/python3.9/site-packages/ete3-3.1.2-py3.7.egg/ete3/evol/parser/codemlparser.py:221: SyntaxWarning: \"is\" with a literal. Did you mean \"==\"?\n",
      "/home/dani/miniconda3/lib/python3.9/site-packages/ete3-3.1.2-py3.7.egg/ete3/evol/parser/codemlparser.py:221: SyntaxWarning: \"is\" with a literal. Did you mean \"==\"?\n"
     ]
    }
   ],
   "source": [
    "import sys, importlib\n",
    "import ncbi_crassvirales as ncbi_crassvirales\n",
    "import utils as utils\n",
    "from ete3 import RectFace, faces"
   ]
  },
  {
   "cell_type": "code",
   "execution_count": 2,
   "id": "71d05879-9e53-4045-a4e1-c14fc488f8bc",
   "metadata": {},
   "outputs": [],
   "source": [
    "summaries_dir = \"/home/dani/encode_home/projects/Bas_phages/5_nr_screening/2_hits_summary/\"\n",
    "#summaries_dir = \"~/projects/Bas_phages/5_nr_screening/2_hits_summary/\"\n",
    "\n",
    "#trees_dir = \"/home/dani/encode_home/projects/Bas_phages/5_nr_screening/4_merged_ncbi_crassvirales/2_trees/\"\n",
    "#trees_dir = \"/home/danielc/projects/Bas_phages/5_nr_screening/4_merged_ncbi_crassvirales/2_trees/\"\n",
    "#trees_dir = \"/home/danielc/projects/Bas_phages/5_nr_screening/4_merged_ncbi_crassvirales/\"\n",
    "trees_dir = \"/home/dani/encode_home/projects/Bas_phages/5_nr_screening/4_merged_ncbi_crassvirales/2_trees\"\n"
   ]
  },
  {
   "cell_type": "code",
   "execution_count": 3,
   "id": "0db760ef-3bb8-4a99-a996-181457ba6b0b",
   "metadata": {
    "tags": []
   },
   "outputs": [],
   "source": [
    "# get interesting CLs to look at\n",
    "#importlib.reload(ncbi_crassvirales);\n",
    "#ncbi_crassvirales.get_interesting_cls(trees_dir, summaries_dir)"
   ]
  },
  {
   "cell_type": "code",
   "execution_count": 45,
   "id": "5b8cd31f-7d8a-4a5d-b2d3-924253b7414a",
   "metadata": {},
   "outputs": [],
   "source": [
    "#cl_id = \"cl_0914\"\n",
    "cl_id = \"cl_2097\"\n",
    "cl_id = \"cl_s_208\"\n",
    "cl_id = \"cl_5520\"\n",
    "cl_id = \"cl_0958\"\n",
    "cl_id = \"cl_6585\"\n",
    "cl_id = \"cl_s_336\"\n",
    "cl_id = \"cl_1285\"\n",
    "cl_id = \"cl_s_202\"\n",
    "cl_id = \"cl_4908\"\n",
    "cl_id = \"cl_1635\" #\n",
    "cl_id = \"cl_s_464\"\n",
    "cl_id = \"cl_0163\"\n",
    "cl_id = \"cl_0914\"\n",
    "cl_id = \"cl_s_084\"\n",
    "cl_id = \"cl_s_752\"\n",
    "cl_id = \"cl_2660\"\n",
    "cl_id = \"cl_0227\"\n"
   ]
  },
  {
   "cell_type": "code",
   "execution_count": 46,
   "id": "2f46a8b2-23ee-4eee-b133-8f682488924b",
   "metadata": {},
   "outputs": [],
   "source": [
    "# parse ncbi summary table\n",
    "importlib.reload(ncbi_crassvirales);\n",
    "ncbi_summary_df = ncbi_crassvirales.parse_ncbi_summary_table(cl_id, summaries_dir)\n",
    "#ncbi_summary_df.loc[\"HDS29336.1\",]"
   ]
  },
  {
   "cell_type": "code",
   "execution_count": 47,
   "id": "a3ef824c-6d2d-429a-ab10-36f27f04a5da",
   "metadata": {},
   "outputs": [],
   "source": [
    "# parse crassvirales taxonomy \n",
    "importlib.reload(utils);\n",
    "\n",
    "crassvirales_taxonomy_file = \"crassphages_taxonomy_terL_and_new.txt\"\n",
    "crassvirales_taxonomy_df = utils.get_taxonomy_df(crassvirales_taxonomy_file)"
   ]
  },
  {
   "cell_type": "code",
   "execution_count": 48,
   "id": "d47df593-40a6-4311-9c2f-bddf39ba44b5",
   "metadata": {},
   "outputs": [],
   "source": [
    "# parse and annotate the ncbi & Crassvirales tree\n",
    "importlib.reload(ncbi_crassvirales);\n",
    "\n",
    "t = ncbi_crassvirales.read_and_annotate_tree(cl_id, trees_dir, ncbi_summary_df, crassvirales_taxonomy_df)\n",
    "\n",
    "t = ncbi_crassvirales.add_phylum_percent_inner_nodes(t)\n",
    "#t = ncbi_crassvirales.collapse_nodes_phylum_perc(t, 0.9)\n",
    "t = ncbi_crassvirales.color_format_tree(t)\n",
    "t.show()"
   ]
  },
  {
   "cell_type": "code",
   "execution_count": 30,
   "id": "0ab439de-6115-4b25-a7f8-bc56ba0d1655",
   "metadata": {},
   "outputs": [],
   "source": [
    "def resolve_crass_bacteria_polytomies(t):\n",
    "    '''\n",
    "    Looks for clades with Crassvirales and Bacteria, all of them with 0 dist\n",
    "    '''\n",
    "    checked_leaves = list()\n",
    "    crass_polytom_leaves = t.search_nodes(dist=0.0, superkingdom=\"crassvirales\")\n",
    "    for leaf in crass_polytom_leaves:\n",
    "        if leaf.name not in checked_leaves:\n",
    "            checked_leaves.append(leaf.name)\n",
    "            # go one node up, check superkingdom of descendants\n",
    "            node_up = leaf.up\n",
    "            for node in node_up.iter_descendants():\n",
    "                if node.superkingdom == \"Bacteria\":\n",
    "                    node.superkingdom = \"bact_crass_polytomy\"\n",
    "                    print(f\"polytomy bacteria-crass, {node.name}\")\n",
    "\n",
    "    return t\n",
    "    \n",
    "t = resolve_crass_bacteria_polytomies(t)"
   ]
  },
  {
   "cell_type": "code",
   "execution_count": 31,
   "id": "bf86bcb7-166b-4ac1-9524-65b8ed7b60c9",
   "metadata": {},
   "outputs": [
    {
     "name": "stdout",
     "output_type": "stream",
     "text": [
      "{'mrca_78': Tree node '' (0x7f89ac34097), 'mrca_82': Tree node 'OMBQ01000121|117|22' (0x7f89ac340d6), 'mrca_83': Tree node 'HvCF_D5_ms_2|117|76' (0x7f89ac340df), 'mrca_86': Tree node '0.774' (0x7f89ac340f1), 'mrca_119': Tree node 'ERR589547_NODE_77_length_93544_cov_5.56366|125|90' (0x7f89ac2e307), 'mrca_120': Tree node '0.759' (0x7f89acf4597), 'mrca_121': Tree node '' (0x7f89ac3d3e2), 'mrca_122': Tree node '1.000' (0x7f89ac3d3e8), 'mrca_132': Tree node '0.591' (0x7f89ac32ecd), 'mrca_137': Tree node '0.957' (0x7f89ac340a6), 'mrca_138': Tree node '' (0x7f89ac340e2), 'mrca_139': Tree node '0.000' (0x7f89ac340e5), 'mrca_141': Tree node '0.519' (0x7f89ac34f82), 'mrca_142': Tree node '0.772' (0x7f89ac34fb8), 'mrca_143': Tree node '0.755' (0x7f89ac34fcd), 'mrca_144': Tree node '0.761' (0x7f89ac34fe5), 'mrca_145': Tree node '0.916' (0x7f89ac34ff1), 'mrca_149': Tree node '0.644' (0x7f89ac3d3bb), 'mrca_150': Tree node '0.971' (0x7f89ac362e5), 'mrca_151': Tree node '0.983' (0x7f89ac32ef7), 'mrca_152': Tree node '0.922' (0x7f89ac34f16)}\n"
     ]
    }
   ],
   "source": [
    "taxa_groups = [[\"crassvirales\",\"NA\", \"new\", \"Viruses\", \"bact_crass_polytomy\"],\n",
    "               [\"crassvirales\", \"new\", \"NA\", \"Viruses\"],\n",
    "               [\"crassvirales\", \"new\", \"NA\", \"bact_crass_polytomy\"],\n",
    "               [\"crassvirales\", \"new\", \"Viruses\", \"bact_crass_polytomy\"],\n",
    "               [\"crassvirales\", \"NA\", \"Viruses\", \"bact_crass_polytomy\"],\n",
    "               [\"crassvirales\", \"new\", \"NA\"],\n",
    "               [\"crassvirales\", \"new\", \"Viruses\"],\n",
    "               [\"crassvirales\", \"new\", \"bact_crass_polytomy\"],\n",
    "               [\"crassvirales\", \"NA\", \"Viruses\"],\n",
    "               [\"crassvirales\", \"NA\", \"bact_crass_polytomy\"],\n",
    "               [\"crassvirales\", \"Viruses\", \"bact_crass_polytomy\"],\n",
    "               [\"crassvirales\", \"new\"],\n",
    "               [\"crassvirales\", \"NA\"],\n",
    "               [\"crassvirales\", \"Viruses\"],\n",
    "               [\"crassvirales\", \"bact_crass_polytomy\"],\n",
    "               [\"crassvirales\"]]\n",
    "               \n",
    "monophyletic_clades_leaves = dict()\n",
    "monophyletic_clades = dict()\n",
    "mrcas_ids_to_clean = list()\n",
    "cont = 0\n",
    "for taxa_group in reversed(taxa_groups):\n",
    "    mrcas = t.get_monophyletic(target_attr=\"superkingdom\", values=taxa_group)\n",
    "    if mrcas:\n",
    "        for mrca in mrcas:\n",
    "            cont += 1\n",
    "            mrca_id = f\"mrca_{cont}\"\n",
    "            # get names of the leaves\n",
    "            mrca_leaves_names = {leaf.name for leaf in mrca.iter_leaves()}\n",
    "            if monophyletic_clades_leaves:\n",
    "                for target_mrca, target_leaves_names in monophyletic_clades_leaves.items():\n",
    "                    tmp = target_leaves_names.union(mrca_leaves_names)\n",
    "                    if len(tmp) == len(mrca_leaves_names):\n",
    "                        mrcas_ids_to_clean.append(target_mrca)\n",
    "                    \n",
    "            monophyletic_clades_leaves[mrca_id] = mrca_leaves_names\n",
    "            monophyletic_clades[mrca_id] = mrca\n",
    "                        \n",
    "mrcas_ids_to_clean   = list(set(mrcas_ids_to_clean))\n",
    "for mrca_id in mrcas_ids_to_clean:\n",
    "    del monophyletic_clades[mrca_id]\n",
    "    del monophyletic_clades_leaves[mrca_id]\n",
    "\n",
    "\n",
    "for mrca_id, mrca in monophyletic_clades.items():\n",
    "    face = RectFace(5,5, \"red\",\"red\", label=mrca_id)\n",
    "    mrca.add_face(face, 0, \"float\")\n",
    "print(monophyletic_clades)"
   ]
  },
  {
   "cell_type": "code",
   "execution_count": 22,
   "id": "8e6b7e7f-ae56-4a72-8c24-91cadde5bbc2",
   "metadata": {},
   "outputs": [
    {
     "name": "stdout",
     "output_type": "stream",
     "text": [
      "lol\n",
      "lol\n"
     ]
    }
   ],
   "source": [
    "for mrca_id, mrca in monophyletic_clades.items():\n",
    "    if mrca.up.is_root():\n",
    "        print(\"lol\")"
   ]
  },
  {
   "cell_type": "code",
   "execution_count": 99,
   "id": "5e4ceb47-ec14-4052-b5f1-b52a7091036f",
   "metadata": {},
   "outputs": [],
   "source": [
    "t.show()"
   ]
  },
  {
   "cell_type": "code",
   "execution_count": 32,
   "id": "3e630091-3dd3-40d3-8855-230b9bed5289",
   "metadata": {},
   "outputs": [
    {
     "name": "stdout",
     "output_type": "stream",
     "text": [
      "mrca_78 WP_188621521.1\n",
      "mrca_82 WP_188621521.1\n",
      "mrca_83 WP_188621521.1\n",
      "mrca_86 WP_188621521.1\n",
      "mrca_119 WP_188621521.1\n",
      "mrca_120 WP_188621521.1\n",
      "mrca_121 WP_188621521.1\n",
      "mrca_122 WP_188621521.1\n",
      "mrca_132 WP_188621521.1\n",
      "mrca_137 WP_188621521.1\n",
      "mrca_138 WP_188621521.1\n",
      "mrca_139 WP_188621521.1\n",
      "mrca_141 WP_188621521.1\n",
      "mrca_142 WP_188621521.1\n",
      "mrca_143 WP_188621521.1\n",
      "mrca_144 WP_188621521.1\n",
      "mrca_145 WP_188621521.1\n",
      "mrca_149 WP_188621521.1\n",
      "mrca_150 WP_188621521.1\n",
      "mrca_151 WP_188621521.1\n",
      "mrca_152 WP_188621521.1\n"
     ]
    }
   ],
   "source": [
    "        \n",
    "# get the most distant node to the mrca\n",
    "rooted_trees = dict()\n",
    "for mrca_id, mrca in monophyletic_clades.items():\n",
    "    bacteria_leaves_dists = {bacteria_leaf:mrca.get_distance(bacteria_leaf) for bacteria_leaf in t.search_nodes(superkingdom=\"Bacteria\")}\n",
    "    # sort by distance\n",
    "    bacteria_leaves_dists = {node: distance for node, distance in sorted(bacteria_leaves_dists.items(), key=lambda item: item[1], reverse=True)}\n",
    "    farthest_bact_leaf = list(bacteria_leaves_dists.keys())[0]\n",
    "    # root using the farthest Bacteria\n",
    "    t.set_outgroup(farthest_bact_leaf)\n",
    "    #print(bacteria_leaves_dists)\n",
    "    print(mrca_id, farthest_bact_leaf.name)\n",
    "    #t.show()\n",
    "    rooted_trees[farthest_bact_leaf.name] = t\n"
   ]
  },
  {
   "cell_type": "code",
   "execution_count": 56,
   "id": "f361c3c7-1dcb-41f1-a06e-1ec4c3d11fb0",
   "metadata": {},
   "outputs": [
    {
     "data": {
      "text/plain": [
       "{'MBS5087642.1': Tree node '' (0x7f83f69a876)}"
      ]
     },
     "execution_count": 56,
     "metadata": {},
     "output_type": "execute_result"
    }
   ],
   "source": [
    "rooted_trees"
   ]
  },
  {
   "cell_type": "code",
   "execution_count": 73,
   "id": "4af42ca7-2a68-49e2-8b85-ba7f8fd5bc77",
   "metadata": {},
   "outputs": [],
   "source": [
    "t.show()"
   ]
  },
  {
   "cell_type": "code",
   "execution_count": 33,
   "id": "a6525872-5b52-460c-8e93-70c8d98707c9",
   "metadata": {},
   "outputs": [
    {
     "name": "stdout",
     "output_type": "stream",
     "text": [
      "{'mrca_73': Tree node '' (0x7f89ac34097), 'mrca_77': Tree node 'OMBQ01000121|117|22' (0x7f89ac340d6), 'mrca_78': Tree node 'HvCF_D5_ms_2|117|76' (0x7f89ac340df), 'mrca_81': Tree node '0.774' (0x7f89ac340f1), 'mrca_125': Tree node '0.591' (0x7f89ac32ecd), 'mrca_134': Tree node '0.957' (0x7f89ac340a6), 'mrca_135': Tree node '' (0x7f89ac340e2), 'mrca_136': Tree node '0.000' (0x7f89ac340e5), 'mrca_143': Tree node '0.971' (0x7f89ac362e5), 'mrca_144': Tree node '0.644' (0x7f89ac3d3bb), 'mrca_145': Tree node '0.983' (0x7f89ac32ef7), 'mrca_146': Tree node '0.550' (0x7f89ac3d3df)}\n"
     ]
    }
   ],
   "source": [
    "taxa_groups = [[\"crassvirales\",\"NA\", \"new\", \"Viruses\", \"bact_crass_polytomy\"],\n",
    "               [\"crassvirales\", \"new\", \"NA\", \"Viruses\"],\n",
    "               [\"crassvirales\", \"new\", \"NA\", \"bact_crass_polytomy\"],\n",
    "               [\"crassvirales\", \"new\", \"Viruses\", \"bact_crass_polytomy\"],\n",
    "               [\"crassvirales\", \"NA\", \"Viruses\", \"bact_crass_polytomy\"],\n",
    "               [\"crassvirales\", \"new\", \"NA\"],\n",
    "               [\"crassvirales\", \"new\", \"Viruses\"],\n",
    "               [\"crassvirales\", \"new\", \"bact_crass_polytomy\"],\n",
    "               [\"crassvirales\", \"NA\", \"Viruses\"],\n",
    "               [\"crassvirales\", \"NA\", \"bact_crass_polytomy\"],\n",
    "               [\"crassvirales\", \"Viruses\", \"bact_crass_polytomy\"],\n",
    "               [\"crassvirales\", \"new\"],\n",
    "               [\"crassvirales\", \"NA\"],\n",
    "               [\"crassvirales\", \"Viruses\"],\n",
    "               [\"crassvirales\", \"bact_crass_polytomy\"],\n",
    "               [\"crassvirales\"]]\n",
    "               \n",
    "monophyletic_clades_leaves = dict()\n",
    "monophyletic_clades = dict()\n",
    "mrcas_ids_to_clean = list()\n",
    "cont = 0\n",
    "for taxa_group in reversed(taxa_groups):\n",
    "    mrcas = t.get_monophyletic(target_attr=\"superkingdom\", values=taxa_group)\n",
    "    if mrcas:\n",
    "        for mrca in mrcas:\n",
    "            cont += 1\n",
    "            mrca_id = f\"mrca_{cont}\"\n",
    "            # get names of the leaves\n",
    "            mrca_leaves_names = {leaf.name for leaf in mrca.iter_leaves()}\n",
    "            if monophyletic_clades_leaves:\n",
    "                for target_mrca, target_leaves_names in monophyletic_clades_leaves.items():\n",
    "                    tmp = target_leaves_names.union(mrca_leaves_names)\n",
    "                    if len(tmp) == len(mrca_leaves_names):\n",
    "                        mrcas_ids_to_clean.append(target_mrca)\n",
    "                    \n",
    "            monophyletic_clades_leaves[mrca_id] = mrca_leaves_names\n",
    "            monophyletic_clades[mrca_id] = mrca\n",
    "                        \n",
    "mrcas_ids_to_clean   = list(set(mrcas_ids_to_clean))\n",
    "for mrca_id in mrcas_ids_to_clean:\n",
    "    del monophyletic_clades[mrca_id]\n",
    "    del monophyletic_clades_leaves[mrca_id]\n",
    "\n",
    "\n",
    "for mrca_id, mrca in monophyletic_clades.items():\n",
    "    face = RectFace(5,5, \"blue\",\"blue\", label=mrca_id)\n",
    "    mrca.add_face(face, 0, \"float\")\n",
    "print(monophyletic_clades)"
   ]
  },
  {
   "cell_type": "code",
   "execution_count": 34,
   "id": "8a4b3217-d62e-42ad-821c-eb5da0ee3ddb",
   "metadata": {},
   "outputs": [],
   "source": [
    "t.show()"
   ]
  },
  {
   "cell_type": "code",
   "execution_count": 24,
   "id": "e0f29872-9094-4510-8ae2-436eb4c831b9",
   "metadata": {},
   "outputs": [
    {
     "data": {
      "text/plain": [
       "[Tree node 'MBQ0113515.1' (0x7f89acf445b)]"
      ]
     },
     "execution_count": 24,
     "metadata": {},
     "output_type": "execute_result"
    }
   ],
   "source": [
    "mrca.get_sisters()"
   ]
  }
 ],
 "metadata": {
  "kernelspec": {
   "display_name": "Python 3 (ipykernel)",
   "language": "python",
   "name": "python3"
  },
  "language_info": {
   "codemirror_mode": {
    "name": "ipython",
    "version": 3
   },
   "file_extension": ".py",
   "mimetype": "text/x-python",
   "name": "python",
   "nbconvert_exporter": "python",
   "pygments_lexer": "ipython3",
   "version": "3.9.5"
  }
 },
 "nbformat": 4,
 "nbformat_minor": 5
}
