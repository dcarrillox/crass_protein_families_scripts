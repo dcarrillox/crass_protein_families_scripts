{
 "cells": [
  {
   "cell_type": "code",
   "execution_count": 5,
   "id": "2404863c-19d5-44d0-a0ab-24ef673be1fb",
   "metadata": {},
   "outputs": [
    {
     "name": "stderr",
     "output_type": "stream",
     "text": [
      "/home/dani/miniconda3/lib/python3.9/site-packages/ete3-3.1.2-py3.7.egg/ete3/evol/parser/codemlparser.py:221: SyntaxWarning: \"is\" with a literal. Did you mean \"==\"?\n",
      "/home/dani/miniconda3/lib/python3.9/site-packages/ete3-3.1.2-py3.7.egg/ete3/evol/parser/codemlparser.py:221: SyntaxWarning: \"is\" with a literal. Did you mean \"==\"?\n"
     ]
    }
   ],
   "source": [
    "import sys, importlib\n",
    "import ncbi_crassvirales as ncbi_crassvirales\n",
    "import utils as utils\n",
    "from ete3 import RectFace, faces, Tree\n",
    "import itertools"
   ]
  },
  {
   "cell_type": "code",
   "execution_count": 7,
   "id": "71d05879-9e53-4045-a4e1-c14fc488f8bc",
   "metadata": {},
   "outputs": [],
   "source": [
    "#summaries_dir = \"/home/danielc/projects/Bas_phages/5_nr_screening/2_hits_summary/\"\n",
    "summaries_dir = \"/home/dani/encode_home//projects/Bas_phages/5_nr_screening/2_hits_summary/\"\n",
    "\n",
    "\n",
    "#trees_dir = \"/home/danielc/projects/Bas_phages/5_nr_screening/4_merged_ncbi_crassvirales/2_trees\"\n",
    "trees_dir = \"/home/dani/encode_home/projects/Bas_phages/5_nr_screening/4_merged_ncbi_crassvirales/2_trees\"\n",
    "\n",
    "\n",
    "\n",
    "vs2_dir = \"/home/danielc/projects/Bas_phages/5_nr_screening/4_merged_ncbi_crassvirales/3_bacterial/old\"\n",
    "vs2_dir = \"/home/dani/encode_home/projects/Bas_phages/5_nr_screening/4_merged_ncbi_crassvirales/3_bacterial/old\"\n"
   ]
  },
  {
   "cell_type": "code",
   "execution_count": 8,
   "id": "0db760ef-3bb8-4a99-a996-181457ba6b0b",
   "metadata": {
    "tags": []
   },
   "outputs": [],
   "source": [
    "# get interesting CLs to look at\n",
    "#importlib.reload(ncbi_crassvirales);\n",
    "#ncbi_crassvirales.get_interesting_cls(trees_dir, summaries_dir)"
   ]
  },
  {
   "cell_type": "code",
   "execution_count": 15,
   "id": "5b8cd31f-7d8a-4a5d-b2d3-924253b7414a",
   "metadata": {},
   "outputs": [],
   "source": [
    "cl_id = \"cl_s_084\" #\n",
    "cl_id = \"cl_2122\" # \n",
    "cl_id = \"cl_s_430\" # \n",
    "cl_id = \"cl_s_543\" #\n",
    "cl_id = \"cl_2336\" ##\n",
    "cl_id = \"cl_0453\"\n",
    "cl_id = \"cl_2097\" ##\n",
    "cl_id = \"cl_s_720\" # show\n",
    "cl_id = \"cl_5837\"\n",
    "cl_id = \"cl_s_457\" # \n",
    "cl_id = \"cl_s_032\" ##\n",
    "cl_id = \"cl_0227\" ##\n",
    "cl_id = \"cl_0132\"\n",
    "cl_id = \"cl_0144\"\n",
    "cl_id = \"cl_0163\"\n",
    "cl_id = \"cl_0450\"\n",
    "cl_id = \"cl_0473\" #####\n",
    "cl_id = \"cl_0786\"\n",
    "cl_id = \"cl_0768\"\n",
    "cl_id = \"cl_0671\"\n",
    "cl_id = \"cl_s_702\" ###\n",
    "#cl_id = \"cl_s_704\"\n",
    "cl_id = \"cl_1764\"\n",
    "cl_id = \"cl_s_422\"\n",
    "cl_id = \"cl_0144\"\n",
    "cl_id = \"cl_s_084\"\n",
    "cl_id = \"cl_0633\"\n",
    "cl_id = \"cl_s_121\"\n",
    "cl_id = \"cl_1092\"\n",
    "#cl_id = \"cl_0914\"\n",
    "cl_id = \"cl_s_330\"\n",
    "cl_id = \"cl_2674\"\n",
    "cl_id = \"cl_0467\" \n",
    "cl_id = \"cl_0193\"\n",
    "cl_id = \"cl_1607\"\n",
    "cl_id = \"cl_3257\"\n",
    "cl_id = \"cl_0815\"\n",
    "cl_id = \"cl_2636\"\n",
    "cl_id = \"cl_1952\" #\n",
    "cl_id = \"cl_6497\"\n",
    "cl_id = \"cl_0008\"\n",
    "cl_id = \"cl_s_010\" ##\n",
    "#cl_id = \"cl_1011\"\n",
    "cl_id = \"cl_1459\"\n",
    "cl_id = \"cl_1237\"\n",
    "cl_id = \"cl_s_350\""
   ]
  },
  {
   "cell_type": "code",
   "execution_count": 16,
   "id": "2f46a8b2-23ee-4eee-b133-8f682488924b",
   "metadata": {},
   "outputs": [
    {
     "name": "stderr",
     "output_type": "stream",
     "text": [
      "/tmp/ipykernel_9656/712990510.py:3: DtypeWarning: Columns (9,10,12,13,14,15,16,17) have mixed types.Specify dtype option on import or set low_memory=False.\n",
      "  ncbi_summary_df = ncbi_crassvirales.parse_ncbi_summary_table(cl_id, summaries_dir)\n"
     ]
    }
   ],
   "source": [
    "# parse ncbi summary table\n",
    "importlib.reload(ncbi_crassvirales);\n",
    "ncbi_summary_df = ncbi_crassvirales.parse_ncbi_summary_table(cl_id, summaries_dir)\n",
    "#ncbi_summary_df.loc[\"HDS29336.1\",]"
   ]
  },
  {
   "cell_type": "code",
   "execution_count": 17,
   "id": "a3ef824c-6d2d-429a-ab10-36f27f04a5da",
   "metadata": {},
   "outputs": [],
   "source": [
    "# parse crassvirales taxonomy \n",
    "importlib.reload(utils);\n",
    "\n",
    "crassvirales_taxonomy_file = \"crassphages_taxonomy_terL_and_new.txt\"\n",
    "crassvirales_taxonomy_df = utils.get_taxonomy_df(crassvirales_taxonomy_file)"
   ]
  },
  {
   "cell_type": "code",
   "execution_count": 18,
   "id": "b9e8c4c2-ecc9-4d97-829b-5c370cdd0d40",
   "metadata": {
    "tags": []
   },
   "outputs": [],
   "source": [
    "# read prophage annotation\n",
    "#importlib.reload(ncbi_crassvirales);\n",
    "\n",
    "#annot = ncbi_crassvirales.parse_vs2_annots(vs2_dir)"
   ]
  },
  {
   "cell_type": "code",
   "execution_count": 19,
   "id": "3c47fbf3-cb34-4718-9cbe-bdbcf4d807e8",
   "metadata": {},
   "outputs": [],
   "source": [
    "#annot"
   ]
  },
  {
   "cell_type": "code",
   "execution_count": 20,
   "id": "d47df593-40a6-4311-9c2f-bddf39ba44b5",
   "metadata": {},
   "outputs": [
    {
     "name": "stdout",
     "output_type": "stream",
     "text": [
      "/home/dani/encode_home/projects/Bas_phages/5_nr_screening/4_merged_ncbi_crassvirales/2_trees/cl_s_350_ncbi_trimmed.nw\n"
     ]
    }
   ],
   "source": [
    "# parse and annotate the ncbi & Crassvirales tree\n",
    "importlib.reload(ncbi_crassvirales);\n",
    "\n",
    "t = ncbi_crassvirales.read_and_annotate_tree(cl_id, trees_dir, ncbi_summary_df, crassvirales_taxonomy_df)\n",
    "\n",
    "#t = ncbi_crassvirales.add_phylum_percent_inner_nodes(t)\n",
    "#t = ncbi_crassvirales.collapse_nodes_phylum_perc(t, 0.9)\n",
    "t = ncbi_crassvirales.color_format_tree(t)\n",
    "t.show()\n"
   ]
  },
  {
   "cell_type": "code",
   "execution_count": 173,
   "id": "51e20017-0974-4e2e-9234-e536f121f25d",
   "metadata": {
    "tags": []
   },
   "outputs": [],
   "source": [
    "def create_target_taxa_groups():\n",
    "    taxa_groups_raw = [\"crassvirales\",\"NA\", \"new\", \"Viruses\", \"bact_crass_polytomy\", \"prophage\"]\n",
    "    taxa_groups = list()\n",
    "    # create the target taxa_groups to look for in the tree\n",
    "    for i in range(2, len(taxa_groups_raw)+1):\n",
    "        combinations = itertools.combinations(taxa_groups_raw, i)\n",
    "        # iterate the combinations and retain those with \"crassvirales\" in them\n",
    "        for combination in combinations:\n",
    "            if \"crassvirales\" in combination:\n",
    "                taxa_groups.append(list(combination))\n",
    "\n",
    "    return taxa_groups\n",
    "\n",
    "taxa_groups = create_target_taxa_groups()\n",
    "taxa_groups = [[\"crassvirales\"]] + taxa_groups"
   ]
  },
  {
   "cell_type": "code",
   "execution_count": 174,
   "id": "b9da033f-4d25-427f-af8e-7a94f7827608",
   "metadata": {
    "tags": []
   },
   "outputs": [],
   "source": [
    "def resolve_crass_bacteria_polytomies(t):\n",
    "    '''\n",
    "    Looks for clades with Crassvirales and Bacteria, all of them with 0 dist\n",
    "    '''\n",
    "    checked_leaves = list()\n",
    "    crass_polytom_leaves = t.search_nodes(dist=0.0, superkingdom=\"crassvirales\")\n",
    "    for leaf in crass_polytom_leaves:\n",
    "        if leaf.name not in checked_leaves:\n",
    "            checked_leaves.append(leaf.name)\n",
    "            # go one node up, check superkingdom of descendants\n",
    "            node_up = leaf.up\n",
    "            for node in node_up.iter_descendants():\n",
    "                if node.superkingdom == \"Bacteria\":\n",
    "                    node.superkingdom = \"bact_crass_polytomy\"\n",
    "                    print(f\"\\t- polytomy bacteria-crass, {node.name}\")\n",
    "\n",
    "    return t\n",
    "\n",
    "t = resolve_crass_bacteria_polytomies(t)"
   ]
  },
  {
   "cell_type": "code",
   "execution_count": 155,
   "id": "d81de934-6fa8-40ba-9667-e3952b9ff32e",
   "metadata": {},
   "outputs": [],
   "source": [
    "def identify_crassvirales_mrcas(t, cl_id, taxa_groups, start_cont, faces=False):\n",
    "    '''\n",
    "\n",
    "    '''\n",
    "\n",
    "    monophyletic_clades_leaves = dict()\n",
    "    monophyletic_clades = dict()\n",
    "    mrcas_ids_to_clean = list()\n",
    "    cont = 0\n",
    "    for taxa_group in taxa_groups:\n",
    "        mrcas = t.get_monophyletic(target_attr=\"superkingdom\", values=taxa_group)\n",
    "        if mrcas:\n",
    "            for mrca in mrcas:\n",
    "                cont += 1\n",
    "                mrca_id = f\"mrca_{cont}\"\n",
    "                # get names of the leaves\n",
    "                mrca_leaves_names = {leaf.name for leaf in mrca.iter_leaves()}\n",
    "                if monophyletic_clades_leaves:\n",
    "                    for target_mrca, target_leaves_names in monophyletic_clades_leaves.items():\n",
    "                        tmp = target_leaves_names.union(mrca_leaves_names)\n",
    "                        if len(tmp) == len(mrca_leaves_names):\n",
    "                            mrcas_ids_to_clean.append(target_mrca)\n",
    "\n",
    "                monophyletic_clades_leaves[mrca_id] = mrca_leaves_names\n",
    "                monophyletic_clades[mrca_id] = mrca\n",
    "\n",
    "\n",
    "    # remove MRCAs already contained in higher MRCAs\n",
    "    mrcas_ids_to_clean = list(set(mrcas_ids_to_clean))\n",
    "    for mrca_id in mrcas_ids_to_clean:\n",
    "        del monophyletic_clades[mrca_id]\n",
    "        del monophyletic_clades_leaves[mrca_id]\n",
    "\n",
    "\n",
    "    # change mrca_ids to lower numbers\n",
    "    final_monophyletic_clades = dict()\n",
    "    final_cont = start_cont\n",
    "    for mrca_id, mrca in monophyletic_clades.items():\n",
    "        final_monophyletic_clades[f\"mrca_{final_cont}\"] = mrca\n",
    "        if faces:\n",
    "            mrca.add_features(mrca_id=f\"mrca_{final_cont}\")\n",
    "            face = RectFace(5,5, \"grey\",\"grey\", label=f\"mrca_{final_cont}\")\n",
    "            mrca.add_face(face, 0, \"float\")\n",
    "        final_cont +=1\n",
    "\n",
    "    #if faces:\n",
    "    #    pdf_outfile = f\"/home/danielc/projects/Bas_phages/5_nr_screening/4_merged_ncbi_crassvirales/4_MRCAs_taxa/{cl_id}.pdf\"\n",
    "    #    t.render(pdf_outfile)\n",
    "\n",
    "    return t, final_monophyletic_clades, final_cont\n",
    "\n",
    "start_cont = 1\n",
    "t, mrcas, cont = identify_crassvirales_mrcas(t, cl_id, taxa_groups, start_cont, faces=True)"
   ]
  },
  {
   "cell_type": "code",
   "execution_count": 141,
   "id": "fb38cb45-068a-4c19-8139-f76ce06d91da",
   "metadata": {
    "tags": []
   },
   "outputs": [
    {
     "name": "stdout",
     "output_type": "stream",
     "text": [
      "{'mrca_1': Tree node '0.694' (0x7fc97ae528e), 'mrca_2': Tree node '0.172' (0x7fc967a6549)}\n"
     ]
    }
   ],
   "source": [
    "print(mrcas)\n",
    "t.show()"
   ]
  },
  {
   "cell_type": "code",
   "execution_count": 167,
   "id": "a8d57feb-fffe-43f8-ae0b-152a75340aae",
   "metadata": {},
   "outputs": [
    {
     "name": "stdout",
     "output_type": "stream",
     "text": [
      "\n",
      "--MBQ7819935.1\n",
      "MBQ7819935.1\n",
      "\n",
      "--WP_194270469.1\n",
      "WP_194270469.1\n"
     ]
    }
   ],
   "source": []
  },
  {
   "cell_type": "code",
   "execution_count": null,
   "id": "b5094e65-1ec1-4474-b303-7395511e3348",
   "metadata": {},
   "outputs": [],
   "source": []
  },
  {
   "cell_type": "code",
   "execution_count": 168,
   "id": "0ab439de-6115-4b25-a7f8-bc56ba0d1655",
   "metadata": {},
   "outputs": [
    {
     "name": "stdout",
     "output_type": "stream",
     "text": [
      "MBQ7819935.1 \n",
      "WP_194270469.1 \n"
     ]
    }
   ],
   "source": [
    "for node_name, tree in rooted_trees.items():\n",
    "    print(node_name, tree.name)\n",
    "    tree.show()"
   ]
  },
  {
   "cell_type": "code",
   "execution_count": null,
   "id": "bf86bcb7-166b-4ac1-9524-65b8ed7b60c9",
   "metadata": {},
   "outputs": [
    {
     "name": "stdout",
     "output_type": "stream",
     "text": [
      "{'mrca_15': Tree node '0.694' (0x7fc97ae528e), 'mrca_16': Tree node '0.172' (0x7fc967a6549)}\n"
     ]
    }
   ],
   "source": [
    "taxa_groups = [[\"crassvirales\",\"NA\", \"new\", \"Viruses\", \"bact_crass_polytomy\"],\n",
    "               [\"crassvirales\", \"new\", \"NA\", \"Viruses\"],\n",
    "               [\"crassvirales\", \"new\", \"NA\", \"bact_crass_polytomy\"],\n",
    "               [\"crassvirales\", \"new\", \"Viruses\", \"bact_crass_polytomy\"],\n",
    "               [\"crassvirales\", \"NA\", \"Viruses\", \"bact_crass_polytomy\"],\n",
    "               [\"crassvirales\", \"new\", \"NA\"],\n",
    "               [\"crassvirales\", \"new\", \"Viruses\"],\n",
    "               [\"crassvirales\", \"new\", \"bact_crass_polytomy\"],\n",
    "               [\"crassvirales\", \"NA\", \"Viruses\"],\n",
    "               [\"crassvirales\", \"NA\", \"bact_crass_polytomy\"],\n",
    "               [\"crassvirales\", \"Viruses\", \"bact_crass_polytomy\"],\n",
    "               [\"crassvirales\", \"new\"],\n",
    "               [\"crassvirales\", \"NA\"],\n",
    "               [\"crassvirales\", \"Viruses\"],\n",
    "               [\"crassvirales\", \"bact_crass_polytomy\"],\n",
    "               [\"crassvirales\"]]\n",
    "               \n",
    "monophyletic_clades_leaves = dict()\n",
    "monophyletic_clades = dict()\n",
    "mrcas_ids_to_clean = list()\n",
    "cont = 0\n",
    "for taxa_group in reversed(taxa_groups):\n",
    "    mrcas = t.get_monophyletic(target_attr=\"superkingdom\", values=taxa_group)\n",
    "    if mrcas:\n",
    "        for mrca in mrcas:\n",
    "            cont += 1\n",
    "            mrca_id = f\"mrca_{cont}\"\n",
    "            # get names of the leaves\n",
    "            mrca_leaves_names = {leaf.name for leaf in mrca.iter_leaves()}\n",
    "            if monophyletic_clades_leaves:\n",
    "                for target_mrca, target_leaves_names in monophyletic_clades_leaves.items():\n",
    "                    tmp = target_leaves_names.union(mrca_leaves_names)\n",
    "                    if len(tmp) == len(mrca_leaves_names):\n",
    "                        mrcas_ids_to_clean.append(target_mrca)\n",
    "                    \n",
    "            monophyletic_clades_leaves[mrca_id] = mrca_leaves_names\n",
    "            monophyletic_clades[mrca_id] = mrca\n",
    "                        \n",
    "mrcas_ids_to_clean   = list(set(mrcas_ids_to_clean))\n",
    "for mrca_id in mrcas_ids_to_clean:\n",
    "    del monophyletic_clades[mrca_id]\n",
    "    del monophyletic_clades_leaves[mrca_id]\n",
    "\n",
    "\n",
    "for mrca_id, mrca in monophyletic_clades.items():\n",
    "    face = RectFace(5,5, \"red\",\"red\", label=mrca_id)\n",
    "    mrca.add_face(face, 0, \"float\")\n",
    "print(monophyletic_clades)"
   ]
  },
  {
   "cell_type": "code",
   "execution_count": null,
   "id": "8e6b7e7f-ae56-4a72-8c24-91cadde5bbc2",
   "metadata": {},
   "outputs": [],
   "source": [
    "for mrca_id, mrca in monophyletic_clades.items():\n",
    "    if mrca.up.is_root():\n",
    "        print(\"lol\")"
   ]
  },
  {
   "cell_type": "code",
   "execution_count": 36,
   "id": "5e4ceb47-ec14-4052-b5f1-b52a7091036f",
   "metadata": {},
   "outputs": [],
   "source": [
    "t.show()"
   ]
  },
  {
   "cell_type": "code",
   "execution_count": null,
   "id": "3e630091-3dd3-40d3-8855-230b9bed5289",
   "metadata": {},
   "outputs": [
    {
     "name": "stdout",
     "output_type": "stream",
     "text": [
      "mrca_15 OGG60168.1\n",
      "mrca_16 MBQ1387579.1\n"
     ]
    }
   ],
   "source": [
    "        \n",
    "# get the most distant node to the mrca\n",
    "rooted_trees = dict()\n",
    "for mrca_id, mrca in monophyletic_clades.items():\n",
    "    bacteria_leaves_dists = {bacteria_leaf:mrca.get_distance(bacteria_leaf) for bacteria_leaf in t.search_nodes(superkingdom=\"Bacteria\")}\n",
    "    # sort by distance\n",
    "    bacteria_leaves_dists = {node: distance for node, distance in sorted(bacteria_leaves_dists.items(), key=lambda item: item[1], reverse=True)}\n",
    "    farthest_bact_leaf = list(bacteria_leaves_dists.keys())[0]\n",
    "    # root using the farthest Bacteria\n",
    "    t.set_outgroup(farthest_bact_leaf)\n",
    "    #print(bacteria_leaves_dists)\n",
    "    print(mrca_id, farthest_bact_leaf.name)\n",
    "    #t.show()\n",
    "    rooted_trees[farthest_bact_leaf.name] = t\n"
   ]
  },
  {
   "cell_type": "code",
   "execution_count": 30,
   "id": "f361c3c7-1dcb-41f1-a06e-1ec4c3d11fb0",
   "metadata": {},
   "outputs": [
    {
     "data": {
      "text/plain": [
       "{'NCX93431.1': Tree node '' (0x7fe8d672d6d)}"
      ]
     },
     "execution_count": 30,
     "metadata": {},
     "output_type": "execute_result"
    }
   ],
   "source": [
    "rooted_trees"
   ]
  },
  {
   "cell_type": "code",
   "execution_count": null,
   "id": "4af42ca7-2a68-49e2-8b85-ba7f8fd5bc77",
   "metadata": {},
   "outputs": [],
   "source": [
    "t.show()"
   ]
  },
  {
   "cell_type": "code",
   "execution_count": 50,
   "id": "a6525872-5b52-460c-8e93-70c8d98707c9",
   "metadata": {},
   "outputs": [
    {
     "name": "stdout",
     "output_type": "stream",
     "text": [
      "{'mrca_27': Tree node '0.891' (0x7fcb51725ca), 'mrca_34': Tree node '0.752' (0x7fcb48344b2)}\n"
     ]
    }
   ],
   "source": [
    "taxa_groups = [[\"crassvirales\",\"NA\", \"new\", \"Viruses\", \"bact_crass_polytomy\"],\n",
    "               [\"crassvirales\", \"new\", \"NA\", \"Viruses\"],\n",
    "               [\"crassvirales\", \"new\", \"NA\", \"bact_crass_polytomy\"],\n",
    "               [\"crassvirales\", \"new\", \"Viruses\", \"bact_crass_polytomy\"],\n",
    "               [\"crassvirales\", \"NA\", \"Viruses\", \"bact_crass_polytomy\"],\n",
    "               [\"crassvirales\", \"new\", \"NA\"],\n",
    "               [\"crassvirales\", \"new\", \"Viruses\"],\n",
    "               [\"crassvirales\", \"new\", \"bact_crass_polytomy\"],\n",
    "               [\"crassvirales\", \"NA\", \"Viruses\"],\n",
    "               [\"crassvirales\", \"NA\", \"bact_crass_polytomy\"],\n",
    "               [\"crassvirales\", \"Viruses\", \"bact_crass_polytomy\"],\n",
    "               [\"crassvirales\", \"new\"],\n",
    "               [\"crassvirales\", \"NA\"],\n",
    "               [\"crassvirales\", \"Viruses\"],\n",
    "               [\"crassvirales\", \"bact_crass_polytomy\"],\n",
    "               [\"crassvirales\"]]\n",
    "               \n",
    "monophyletic_clades_leaves = dict()\n",
    "monophyletic_clades = dict()\n",
    "mrcas_ids_to_clean = list()\n",
    "cont = 0\n",
    "for taxa_group in reversed(taxa_groups):\n",
    "    mrcas = t.get_monophyletic(target_attr=\"superkingdom\", values=taxa_group)\n",
    "    if mrcas:\n",
    "        for mrca in mrcas:\n",
    "            cont += 1\n",
    "            mrca_id = f\"mrca_{cont}\"\n",
    "            # get names of the leaves\n",
    "            mrca_leaves_names = {leaf.name for leaf in mrca.iter_leaves()}\n",
    "            if monophyletic_clades_leaves:\n",
    "                for target_mrca, target_leaves_names in monophyletic_clades_leaves.items():\n",
    "                    tmp = target_leaves_names.union(mrca_leaves_names)\n",
    "                    if len(tmp) == len(mrca_leaves_names):\n",
    "                        mrcas_ids_to_clean.append(target_mrca)\n",
    "                    \n",
    "            monophyletic_clades_leaves[mrca_id] = mrca_leaves_names\n",
    "            monophyletic_clades[mrca_id] = mrca\n",
    "                        \n",
    "mrcas_ids_to_clean   = list(set(mrcas_ids_to_clean))\n",
    "for mrca_id in mrcas_ids_to_clean:\n",
    "    del monophyletic_clades[mrca_id]\n",
    "    del monophyletic_clades_leaves[mrca_id]\n",
    "\n",
    "\n",
    "for mrca_id, mrca in monophyletic_clades.items():\n",
    "    face = RectFace(5,5, \"blue\",\"blue\", label=mrca_id)\n",
    "    mrca.add_face(face, 0, \"float\")\n",
    "print(monophyletic_clades)"
   ]
  },
  {
   "cell_type": "code",
   "execution_count": 51,
   "id": "8a4b3217-d62e-42ad-821c-eb5da0ee3ddb",
   "metadata": {},
   "outputs": [],
   "source": [
    "t.show()"
   ]
  },
  {
   "cell_type": "code",
   "execution_count": 24,
   "id": "e0f29872-9094-4510-8ae2-436eb4c831b9",
   "metadata": {},
   "outputs": [
    {
     "data": {
      "text/plain": [
       "[Tree node 'MBQ0113515.1' (0x7f89acf445b)]"
      ]
     },
     "execution_count": 24,
     "metadata": {},
     "output_type": "execute_result"
    }
   ],
   "source": [
    "mrca.get_sisters()"
   ]
  },
  {
   "cell_type": "code",
   "execution_count": null,
   "id": "427db069-d759-4601-b19e-1ad43fb5ab31",
   "metadata": {},
   "outputs": [],
   "source": []
  },
  {
   "cell_type": "code",
   "execution_count": null,
   "id": "93877605-30b4-428b-8ad3-d60a096a8843",
   "metadata": {},
   "outputs": [],
   "source": []
  },
  {
   "cell_type": "code",
   "execution_count": null,
   "id": "5750f6f5-73ce-425c-9b16-f958112d8c25",
   "metadata": {},
   "outputs": [],
   "source": []
  },
  {
   "cell_type": "code",
   "execution_count": null,
   "id": "f7262c5c-6512-41b7-99e0-f15b91851380",
   "metadata": {},
   "outputs": [],
   "source": []
  },
  {
   "cell_type": "code",
   "execution_count": null,
   "id": "6b954ae4-0640-4fb0-8823-cb9252b41186",
   "metadata": {},
   "outputs": [],
   "source": []
  },
  {
   "cell_type": "code",
   "execution_count": null,
   "id": "2c92212e-f2f9-4af3-bb55-21f4898af048",
   "metadata": {},
   "outputs": [],
   "source": []
  },
  {
   "cell_type": "code",
   "execution_count": 156,
   "id": "55c3ea8b-4d5e-4bfd-a401-2867d2d9595f",
   "metadata": {},
   "outputs": [],
   "source": [
    "t = Tree(\"/home/dani/encode_home/OG_599_trimmed.nw\", format=1)"
   ]
  },
  {
   "cell_type": "code",
   "execution_count": 157,
   "id": "399a0946-4d24-414c-a34a-c2cb33788647",
   "metadata": {},
   "outputs": [],
   "source": [
    "t.show()"
   ]
  },
  {
   "cell_type": "code",
   "execution_count": null,
   "id": "5b37e17b-ba16-4dfa-9a38-3d47ddf575b5",
   "metadata": {},
   "outputs": [],
   "source": []
  },
  {
   "cell_type": "code",
   "execution_count": null,
   "id": "edcc2080-8df4-4dc1-acb8-da7313536e90",
   "metadata": {},
   "outputs": [],
   "source": []
  },
  {
   "cell_type": "code",
   "execution_count": null,
   "id": "65535d11-df6e-4c97-8f24-4023f3949aee",
   "metadata": {},
   "outputs": [],
   "source": []
  },
  {
   "cell_type": "code",
   "execution_count": null,
   "id": "167dd841-8a7b-46b4-91af-88af0d2fed12",
   "metadata": {},
   "outputs": [],
   "source": []
  },
  {
   "cell_type": "code",
   "execution_count": null,
   "id": "820f954f-fc93-4316-a5d7-f935aedc6c3d",
   "metadata": {},
   "outputs": [],
   "source": []
  },
  {
   "cell_type": "code",
   "execution_count": null,
   "id": "2192d5d4-17e7-41ef-b95d-3fa8f62a11fe",
   "metadata": {},
   "outputs": [],
   "source": []
  }
 ],
 "metadata": {
  "kernelspec": {
   "display_name": "Python 3 (ipykernel)",
   "language": "python",
   "name": "python3"
  },
  "language_info": {
   "codemirror_mode": {
    "name": "ipython",
    "version": 3
   },
   "file_extension": ".py",
   "mimetype": "text/x-python",
   "name": "python",
   "nbconvert_exporter": "python",
   "pygments_lexer": "ipython3",
   "version": "3.9.5"
  }
 },
 "nbformat": 4,
 "nbformat_minor": 5
}
