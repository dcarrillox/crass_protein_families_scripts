{
 "cells": [
  {
   "cell_type": "code",
   "execution_count": 74,
   "id": "054732a9-0d29-46de-ab3a-4bf6645ae4db",
   "metadata": {},
   "outputs": [
    {
     "data": {
      "text/plain": [
       "<module 'phylogenetic_profiles' from '/home/danielc/projects/Bas_phages/crass_protein_families_scripts/tree_functions/phylogenetic_profiles.py'>"
      ]
     },
     "execution_count": 74,
     "metadata": {},
     "output_type": "execute_result"
    }
   ],
   "source": [
    "import sys, importlib\n",
    "import terl_tree as terl_tree\n",
    "import utils as utils\n",
    "import phylogenetic_profiles as profiles\n",
    "\n",
    "importlib.reload(terl_tree)\n",
    "importlib.reload(utils)\n",
    "importlib.reload(profiles)"
   ]
  },
  {
   "cell_type": "code",
   "execution_count": 75,
   "id": "340c2a41-a892-46ba-a804-8a15f00b5cfd",
   "metadata": {},
   "outputs": [],
   "source": [
    "taxa_file = \"/home/danielc/software/github/old_june/tree_functions/files/crassphages_taxonomy_terL_and_new.txt\"\n",
    "#taxa_file = \"/home/dani/encode_home/software/github/old_june/tree_functions/files/crassphages_taxonomy_terL_and_new.txt\"\n",
    "tax_df = terl_tree.get_taxonomy_df(taxa_file)"
   ]
  },
  {
   "cell_type": "code",
   "execution_count": 76,
   "id": "0c058928-13f7-451b-9711-b003ea2daed4",
   "metadata": {},
   "outputs": [],
   "source": [
    "cls_proteins_file = \"/home/danielc/projects/Bas_phages/3_banfield_clustering/all_seqs_cov08/0_clustering/clusters_faa/clusters_table.txt\"\n",
    "#cls_proteins_file = \"/home/dani/encode_home/projects/Bas_phages/3_banfield_clustering/all_seqs_cov08/0_clustering/clusters_faa/clusters_table.txt\"\n",
    "cls_genomes = profiles.cls_genomes(cls_proteins_file)"
   ]
  },
  {
   "cell_type": "code",
   "execution_count": 77,
   "id": "20be854e-fe52-40e5-a07c-995b408eb061",
   "metadata": {},
   "outputs": [],
   "source": [
    "votus_file = \"/home/danielc/projects/Bas_phages/ani_crass_genomes/aniclust.txt\"\n",
    "#votus_file = \"/home/dani/encode_home/projects/Tests/ani_crass_genomes/aniclust.txt\"\n",
    "genomes_reprs, reprs_votus, votus = utils.set_vOTUs(votus_file)"
   ]
  },
  {
   "cell_type": "code",
   "execution_count": 96,
   "id": "6890761e-7d94-4b41-b095-dc1af5370bb0",
   "metadata": {},
   "outputs": [],
   "source": [
    "tree_file = \"/home/danielc/projects/Bas_phages/ani_crass_genomes/iqtree/terl_ref_distant_fftns1000_trim09.treefile\"\n",
    "#tree_file = \"/home/dani/encode_home/projects/Tests/ani_crass_genomes/iqtree/terl_ref_distant_fftns1000_trim09.treefile\"\n",
    "t, ts = terl_tree.parse_terl_tree(tree_file, tax_df)"
   ]
  },
  {
   "cell_type": "code",
   "execution_count": 97,
   "id": "2a217ec2-1c3c-44be-a9df-2b7356e7e841",
   "metadata": {},
   "outputs": [
    {
     "ename": "KeyError",
     "evalue": "'cl_s_752'",
     "output_type": "error",
     "traceback": [
      "\u001b[0;31m---------------------------------------------------------------------------\u001b[0m",
      "\u001b[0;31mKeyError\u001b[0m                                  Traceback (most recent call last)",
      "\u001b[0;32m/tmp/ipykernel_213602/3512990656.py\u001b[0m in \u001b[0;36m<module>\u001b[0;34m\u001b[0m\n\u001b[1;32m      2\u001b[0m \u001b[0;31m#cls = [\"cl_0571\",\"cl_2414\",\"cl_0172\",\"cl_0308\",\"cl_1095\",\"cl_1679\",\"cl_3233\",\"cl_6310\",\"cl_0612\",\"cl_0995\",\"cl_0586\",\"cl_0279\"]\u001b[0m\u001b[0;34m\u001b[0m\u001b[0;34m\u001b[0m\u001b[0m\n\u001b[1;32m      3\u001b[0m \u001b[0mcls\u001b[0m \u001b[0;34m=\u001b[0m \u001b[0;34m[\u001b[0m\u001b[0;34m\"cl_s_752\"\u001b[0m\u001b[0;34m]\u001b[0m\u001b[0;34m\u001b[0m\u001b[0;34m\u001b[0m\u001b[0m\n\u001b[0;32m----> 4\u001b[0;31m \u001b[0mt\u001b[0m \u001b[0;34m=\u001b[0m \u001b[0mprofiles\u001b[0m\u001b[0;34m.\u001b[0m\u001b[0madd_profiles_representatives\u001b[0m\u001b[0;34m(\u001b[0m\u001b[0mt\u001b[0m\u001b[0;34m,\u001b[0m \u001b[0mgenomes_reprs\u001b[0m\u001b[0;34m,\u001b[0m \u001b[0mvotus\u001b[0m\u001b[0;34m,\u001b[0m \u001b[0mcls\u001b[0m\u001b[0;34m,\u001b[0m \u001b[0mcls_genomes\u001b[0m\u001b[0;34m)\u001b[0m\u001b[0;34m\u001b[0m\u001b[0;34m\u001b[0m\u001b[0m\n\u001b[0m",
      "\u001b[0;32m~/projects/Bas_phages/crass_protein_families_scripts/tree_functions/phylogenetic_profiles.py\u001b[0m in \u001b[0;36madd_profiles_representatives\u001b[0;34m(tree, genomes_reprs, votus, target_cls, cls_genomes)\u001b[0m\n\u001b[1;32m     55\u001b[0m     \u001b[0;32mfor\u001b[0m \u001b[0mcl\u001b[0m \u001b[0;32min\u001b[0m \u001b[0mtarget_cls\u001b[0m\u001b[0;34m:\u001b[0m\u001b[0;34m\u001b[0m\u001b[0;34m\u001b[0m\u001b[0m\n\u001b[1;32m     56\u001b[0m         \u001b[0;31m# for the genomes where the cl is present, get their representative genome in the vOTU\u001b[0m\u001b[0;34m\u001b[0m\u001b[0;34m\u001b[0m\u001b[0m\n\u001b[0;32m---> 57\u001b[0;31m         \u001b[0mreprs\u001b[0m \u001b[0;34m=\u001b[0m \u001b[0;34m[\u001b[0m\u001b[0mgenomes_reprs\u001b[0m\u001b[0;34m[\u001b[0m\u001b[0mgenome\u001b[0m\u001b[0;34m]\u001b[0m \u001b[0;32mfor\u001b[0m \u001b[0mgenome\u001b[0m \u001b[0;32min\u001b[0m \u001b[0mcls_genomes\u001b[0m\u001b[0;34m[\u001b[0m\u001b[0mcl\u001b[0m\u001b[0;34m]\u001b[0m\u001b[0;34m]\u001b[0m\u001b[0;34m\u001b[0m\u001b[0;34m\u001b[0m\u001b[0m\n\u001b[0m\u001b[1;32m     58\u001b[0m         \u001b[0mreprs_uniq\u001b[0m \u001b[0;34m=\u001b[0m \u001b[0mlist\u001b[0m\u001b[0;34m(\u001b[0m\u001b[0mset\u001b[0m\u001b[0;34m(\u001b[0m\u001b[0mreprs\u001b[0m\u001b[0;34m)\u001b[0m\u001b[0;34m)\u001b[0m\u001b[0;34m\u001b[0m\u001b[0;34m\u001b[0m\u001b[0m\n\u001b[1;32m     59\u001b[0m \u001b[0;34m\u001b[0m\u001b[0m\n",
      "\u001b[0;31mKeyError\u001b[0m: 'cl_s_752'"
     ]
    }
   ],
   "source": [
    "#cls = [\"cl_0389\", \"cl_0248\", \"cl_0402\", \"cl_3712\", \"cl_2036\", \"cl_5873\", \"cl_0243\", \"cl_0168\"]\n",
    "#cls = [\"cl_0571\",\"cl_2414\",\"cl_0172\",\"cl_0308\",\"cl_1095\",\"cl_1679\",\"cl_3233\",\"cl_6310\",\"cl_0612\",\"cl_0995\",\"cl_0586\",\"cl_0279\"]\n",
    "cls = [\"cl_s_752\"]\n",
    "t = profiles.add_profiles_representatives(t, genomes_reprs, votus, cls, cls_genomes)"
   ]
  },
  {
   "cell_type": "code",
   "execution_count": 95,
   "id": "2a22f6df-4c88-4fb1-8db6-9aba71a63bcc",
   "metadata": {},
   "outputs": [],
   "source": [
    "t.show(tree_style=ts)"
   ]
  },
  {
   "cell_type": "code",
   "execution_count": 48,
   "id": "ea54487e-de8d-4f38-b2dd-e2f48dcb4e32",
   "metadata": {},
   "outputs": [
    {
     "data": {
      "text/plain": [
       "['OBJF01000128',\n",
       " '13T2_lib200759_4',\n",
       " 'NODE_52_length_68347_cov_10.729983',\n",
       " 'HvCF_C6_ms_40',\n",
       " 'OLGB01000200',\n",
       " 'OLPR01000090',\n",
       " '3300008299_____Ga0114868_1000151',\n",
       " 'OBAQ01000124',\n",
       " '3300014744_____Ga0134393_100057',\n",
       " 'Sib1_ms_5',\n",
       " '3300014712_____Ga0134412_100037',\n",
       " 'NODE_14_length_91830_cov_15.741215',\n",
       " 'OHKK01000062',\n",
       " 'ERR589532_NODE_107_length_92376_cov_180.077',\n",
       " 'OLFZ01000118',\n",
       " 'OHJU01000019',\n",
       " 'G1_NODE_2_length_94779_cov_38.444270',\n",
       " 'HvCF_A10_ms_12',\n",
       " 'OJNS01000048',\n",
       " 'OKSB01000084',\n",
       " 'ERR589848_NODE_206_length_90462_cov_52.7397',\n",
       " 'HvCF_D5_ms_8',\n",
       " 'ERR589744_NODE_120_length_92759_cov_4.82016',\n",
       " '3300014936_____Ga0169833_100099',\n",
       " '13T1_lib200736_2',\n",
       " '3300006476_____Ga0100233_100198',\n",
       " 'ERR589443_NODE_121_length_92042_cov_9.87016',\n",
       " 'EM200_T3_ms_2',\n",
       " 'OLNN01000114',\n",
       " 'OJRC01000065',\n",
       " 'HvCF_C12_ms_12',\n",
       " 'OLFY01000217',\n",
       " 'ERR589784_NODE_156_length_92548_cov_456.46',\n",
       " '3300008272_____Ga0111092_1000198',\n",
       " 'ERR589835_NODE_192_length_92466_cov_11.6977',\n",
       " 'HvCF_C4_ms_1',\n",
       " 'SRS105153_NODE_241_length_90160_cov_456.992',\n",
       " 'NODE_2_length_62767_cov_70.191080',\n",
       " '3300008077_____Ga0105964_1000167',\n",
       " '29T2_lib200760_4',\n",
       " 'Eld245-t3_s_2',\n",
       " 'ERR844071_ms_4',\n",
       " 'OHJX01000034',\n",
       " 'OICR01000026',\n",
       " 'OJQP01000090',\n",
       " 'ERR589742_NODE_219_length_92594_cov_6.88142',\n",
       " 'ERR589556_NODE_251_length_91714_cov_17.3214',\n",
       " 'OJPR01000012',\n",
       " 'OGPZ01000072',\n",
       " '3300008672_____Ga0111519_100235',\n",
       " 'HvCF_A9_ms_6',\n",
       " 'ERR589826_NODE_133_length_91808_cov_9.52867',\n",
       " '3300013946_____Ga0117818_1000018',\n",
       " 'Zuo_D4_NODE_3_length_94071_cov_292.928725',\n",
       " 'Eld195-t0_s_3',\n",
       " 'OIWV01000065',\n",
       " 'ERR589737_NODE_250_length_92638_cov_199.421',\n",
       " '8_lib200774_3',\n",
       " 'HvCF_C7_ms_14',\n",
       " 'OHKU01000021',\n",
       " 'Fferm_ms_2',\n",
       " 'NODE_31_length_89217_cov_7.071578',\n",
       " 'NODE_48_length_88369_cov_9.860181',\n",
       " 'ERR589853_NODE_110_length_92253_cov_12.0089',\n",
       " 'F6_NODE_4_length_91062_cov_72.306460',\n",
       " 'NODE_25_length_90203_cov_21.533334',\n",
       " 'OLRU01000124',\n",
       " '13T3_lib200767_2',\n",
       " 'Long_crAss_ms_13',\n",
       " 'OHPO01000018',\n",
       " 'Fferm_crAss_ms_3',\n",
       " 'Eld200-t3_s_3',\n",
       " 'Eld251-t3_s_3',\n",
       " 'GlobVir_NODE_2_length_59584_cov_4.19401_ID_3_4559274',\n",
       " 'OJRT01000053',\n",
       " 'SRS143342_NODE_258_length_88506_cov_67.6429',\n",
       " 'OGCO01000246',\n",
       " '3300014944_____Ga0134440_100138',\n",
       " 'GlobVir_NODE_1_length_87300_cov_647.875_ID_1',\n",
       " 'EM173_T3_ms_1',\n",
       " 'NODE_104_length_51049_cov_3.649174',\n",
       " 'Sib2_ms_5',\n",
       " 'NODE_31_length_84778_cov_22.168785',\n",
       " 'NODE_105_length_58771_cov_42.850722',\n",
       " 'ERR589512_NODE_313_length_91996_cov_59.3944',\n",
       " 'OLGH01000138',\n",
       " '5_lib200737_7',\n",
       " '29T3_lib200758_4',\n",
       " '3300007498_____Ga0104980_100180',\n",
       " 'OHTD01000013',\n",
       " 'OMDD01000022',\n",
       " 'Eld173-t3_s_1',\n",
       " 'OJRK01000037',\n",
       " 'NG-14571_65_NODE_5_length_90560_cov_40.8849',\n",
       " 'OIWP01000200',\n",
       " 'EM251_T3_ms_3',\n",
       " 'NODE_15_length_77188_cov_38.507306',\n",
       " 'QRFC01000100',\n",
       " '11_lib200753_4',\n",
       " 'OICK01000023',\n",
       " 'NODE_3_length_70729_cov_11.817500',\n",
       " 'cear01029167',\n",
       " 'HvCF_B1_ms_9',\n",
       " 'SRS143417_NODE_177_length_89824_cov_37.2496',\n",
       " 'GlobVir_NODE_1_length_91913_cov_73.8048_ID_1',\n",
       " 'CS_ms_46',\n",
       " 'EM241_T0_ms_4']"
      ]
     },
     "execution_count": 48,
     "metadata": {},
     "output_type": "execute_result"
    }
   ],
   "source": [
    "cls_genomes[\"cl_0323\"]"
   ]
  }
 ],
 "metadata": {
  "kernelspec": {
   "display_name": "Python 3 (ipykernel)",
   "language": "python",
   "name": "python3"
  },
  "language_info": {
   "codemirror_mode": {
    "name": "ipython",
    "version": 3
   },
   "file_extension": ".py",
   "mimetype": "text/x-python",
   "name": "python",
   "nbconvert_exporter": "python",
   "pygments_lexer": "ipython3",
   "version": "3.9.5"
  }
 },
 "nbformat": 4,
 "nbformat_minor": 5
}
