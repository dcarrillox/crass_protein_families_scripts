{
 "cells": [
  {
   "cell_type": "code",
   "execution_count": 21,
   "id": "4ef55af7-ca58-46e0-a9bd-88ab690b6e20",
   "metadata": {},
   "outputs": [],
   "source": [
    "from ete3 import Tree\n",
    "import sys, importlib, glob, os\n",
    "import ncbi_crassvirales as ncbi_crassvirales\n",
    "import utils as utils"
   ]
  },
  {
   "cell_type": "code",
   "execution_count": 17,
   "id": "6ddd1544-771b-47a1-a88c-74a39f8715cc",
   "metadata": {},
   "outputs": [],
   "source": [
    "summaries_dir = \"/home/dani/encode_home/projects/Bas_phages/5_nr_screening/2_hits_summary/\"\n",
    "#summaries_dir = \"~/projects/Bas_phages/5_nr_screening/2_hits_summary/\"\n",
    "\n",
    "#trees_dir = \"/home/danielc/projects/Bas_phages/5_nr_screening/4_merged_ncbi_crassvirales/2_trees/\"\n",
    "#trees_dir = \"/home/dani/encode_home/projects/Bas_phages/5_nr_screening/4_merged_ncbi_crassvirales/2_trees\"\n",
    "trees_dir = \"/home/dani/encode_home/projects/Bas_phages/5_nr_screening/4_merged_ncbi_crassvirales/2_trees_mad/\""
   ]
  },
  {
   "cell_type": "code",
   "execution_count": 18,
   "id": "2bc70ddf-53e9-4425-b186-9c4526aecfdf",
   "metadata": {},
   "outputs": [],
   "source": [
    "# parse crassvirales taxonomy \n",
    "importlib.reload(utils);\n",
    "\n",
    "crassvirales_taxonomy_file = \"crassphages_taxonomy_terL_and_new.txt\"\n",
    "crassvirales_taxonomy_df = utils.get_taxonomy_df(crassvirales_taxonomy_file)"
   ]
  },
  {
   "cell_type": "code",
   "execution_count": null,
   "id": "cc69f4e5-db6a-4baa-9ef9-8afb4a98aba2",
   "metadata": {},
   "outputs": [],
   "source": []
  },
  {
   "cell_type": "code",
   "execution_count": null,
   "id": "c18e7131-93f2-4205-968f-4d403bdce991",
   "metadata": {},
   "outputs": [],
   "source": []
  },
  {
   "cell_type": "code",
   "execution_count": null,
   "id": "546e032c-e013-4da3-833b-eec9e52b7dda",
   "metadata": {},
   "outputs": [],
   "source": []
  },
  {
   "cell_type": "code",
   "execution_count": null,
   "id": "772f429a-f4b4-49f4-a99f-73e0d7e4e442",
   "metadata": {},
   "outputs": [],
   "source": []
  },
  {
   "cell_type": "code",
   "execution_count": null,
   "id": "8af68bd3-931f-42d4-9e81-5b32237bc535",
   "metadata": {},
   "outputs": [],
   "source": []
  },
  {
   "cell_type": "code",
   "execution_count": 35,
   "id": "5978f715-0ce5-443b-af2c-43adbfe84e08",
   "metadata": {},
   "outputs": [],
   "source": [
    "cl_ids = [os.path.basename(tree_file).split(\"_ncbi\")[0] for tree_file in glob.glob(f\"{trees_dir}/cl_00*.rooted\")]\n",
    "importlib.reload(ncbi_crassvirales);\n",
    "for cl_id in cl_ids:\n",
    "    print(cl_id)\n",
    "    \n",
    "    ncbi_summary_df = ncbi_crassvirales.parse_ncbi_summary_table(cl_id, summaries_dir)\n",
    "    \n",
    "    t = ncbi_crassvirales.read_and_annotate_tree(cl_id, trees_dir, ncbi_summary_df, crassvirales_taxonomy_df)\n",
    "    t = ncbi_crassvirales.color_format_tree(t)\n",
    "    t = ncbi_crassvirales.annotate_inner_nodes_superkingdom(t)\n",
    "    \n",
    "    t.show()"
   ]
  },
  {
   "cell_type": "code",
   "execution_count": null,
   "id": "1aa2ffe9-4b8b-4166-a626-98e8731f7918",
   "metadata": {},
   "outputs": [],
   "source": []
  }
 ],
 "metadata": {
  "kernelspec": {
   "display_name": "Python 3 (ipykernel)",
   "language": "python",
   "name": "python3"
  },
  "language_info": {
   "codemirror_mode": {
    "name": "ipython",
    "version": 3
   },
   "file_extension": ".py",
   "mimetype": "text/x-python",
   "name": "python",
   "nbconvert_exporter": "python",
   "pygments_lexer": "ipython3",
   "version": "3.9.5"
  }
 },
 "nbformat": 4,
 "nbformat_minor": 5
}
